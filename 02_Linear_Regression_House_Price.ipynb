{
 "cells": [
  {
   "cell_type": "code",
   "execution_count": 1,
   "metadata": {},
   "outputs": [],
   "source": [
    "import matplotlib.pyplot as plt\n",
    "import numpy as np\n",
    "from sklearn import datasets, linear_model"
   ]
  },
  {
   "cell_type": "code",
   "execution_count": 2,
   "metadata": {},
   "outputs": [],
   "source": [
    "house_price = [245, 312, 279, 308, 199, 219, 405, 324, 319, 255]\n",
    "size = [1400, 1600, 1700, 1875, 1100, 1550, 2350, 2450, 1425, 1700]"
   ]
  },
  {
   "cell_type": "code",
   "execution_count": 3,
   "metadata": {},
   "outputs": [
    {
     "name": "stdout",
     "output_type": "stream",
     "text": [
      "[[1400]\n",
      " [1600]\n",
      " [1700]\n",
      " [1875]\n",
      " [1100]\n",
      " [1550]\n",
      " [2350]\n",
      " [2450]\n",
      " [1425]\n",
      " [1700]]\n"
     ]
    }
   ],
   "source": [
    "reshape_size = np.array(size).reshape(-1, 1)\n",
    "print reshape_size"
   ]
  },
  {
   "cell_type": "code",
   "execution_count": 4,
   "metadata": {},
   "outputs": [
    {
     "name": "stdout",
     "output_type": "stream",
     "text": [
      "[0.10976774]\n",
      "98.24832962138083\n"
     ]
    }
   ],
   "source": [
    "reg = linear_model.LinearRegression()\n",
    "reg.fit(reshape_size, house_price)\n",
    "print reg.coef_\n",
    "print reg.intercept_"
   ]
  },
  {
   "cell_type": "code",
   "execution_count": 5,
   "metadata": {},
   "outputs": [
    {
     "name": "stdout",
     "output_type": "stream",
     "text": [
      "[251.92316258]\n",
      "[251.92316258]\n"
     ]
    }
   ],
   "source": [
    "size_new = 1400\n",
    "price = (size_new * reg.coef_) + reg.intercept_\n",
    "print price\n",
    "print reg.predict([[size_new]])"
   ]
  },
  {
   "cell_type": "code",
   "execution_count": 6,
   "metadata": {},
   "outputs": [],
   "source": [
    "def graph(formula, x_range):\n",
    "    x = np.array(x_range)\n",
    "    y = eval(formula)\n",
    "    plt.plot(x, y)"
   ]
  },
  {
   "cell_type": "code",
   "execution_count": 12,
   "metadata": {},
   "outputs": [
    {
     "data": {
      "image/png": "[encoded data removed]",
      "text/plain": [
       "<matplotlib.figure.Figure at 0x105252450>"
      ]
     },
     "metadata": {},
     "output_type": "display_data"
    }
   ],
   "source": [
    "graph('reg.coef_ * x + reg.intercept_', range(1000, 2700))\n",
    "plt.scatter(size, house_price, color = 'black')\n",
    "plt.ylabel('House Price')\n",
    "plt.xlabel('Size of House')\n",
    "plt.show()"
   ]
  },
  {
   "cell_type": "code",
   "execution_count": null,
   "metadata": {},
   "outputs": [],
   "source": []
  }
 ],
 "metadata": {
  "kernelspec": {
   "display_name": "Python 2",
   "language": "python",
   "name": "python2"
  },
  "language_info": {
   "codemirror_mode": {
    "name": "ipython",
    "version": 2
   },
   "file_extension": ".py",
   "mimetype": "text/x-python",
   "name": "python",
   "nbconvert_exporter": "python",
   "pygments_lexer": "ipython2",
   "version": "2.7.10"
  }
 },
 "nbformat": 4,
 "nbformat_minor": 2
}
